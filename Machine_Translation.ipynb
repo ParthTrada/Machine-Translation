{
 "cells": [
  {
   "cell_type": "markdown",
   "metadata": {},
   "source": [
    "### Import Required Libraries"
   ]
  },
  {
   "cell_type": "code",
   "execution_count": 1,
   "metadata": {},
   "outputs": [
    {
     "name": "stderr",
     "output_type": "stream",
     "text": [
      "Using TensorFlow backend.\n"
     ]
    }
   ],
   "source": [
    "import string\n",
    "import re\n",
    "from numpy import array, argmax, random, take\n",
    "import pandas as pd\n",
    "from keras.models import Sequential\n",
    "from keras.layers import Dense, LSTM, Embedding, Bidirectional, RepeatVector, TimeDistributed\n",
    "from keras.preprocessing.text import Tokenizer\n",
    "from keras.callbacks import ModelCheckpoint\n",
    "from keras.preprocessing.sequence import pad_sequences\n",
    "from keras.models import load_model\n",
    "from keras import optimizers\n",
    "import matplotlib.pyplot as plt\n",
    "% matplotlib inline\n",
    "pd.set_option('display.max_colwidth', 200)"
   ]
  },
  {
   "cell_type": "markdown",
   "metadata": {},
   "source": [
    "### Read Data"
   ]
  },
  {
   "cell_type": "markdown",
   "metadata": {},
   "source": [
    "Our data is a text file of English-German sentence pairs. First we will read the file using the function defined below."
   ]
  },
  {
   "cell_type": "code",
   "execution_count": 2,
   "metadata": {},
   "outputs": [],
   "source": [
    "# function to read raw text file\n",
    "def read_text(filename):\n",
    "    # open the file\n",
    "    file = open(filename, mode='rt', encoding='utf-8')\n",
    "    # read all text\n",
    "    text = file.read()\n",
    "    file.close()\n",
    "    return text"
   ]
  },
  {
   "cell_type": "markdown",
   "metadata": {},
   "source": [
    "Now let's define a function to split the text into English-German pairs separated by '\\n' and then split these pairs into English sentences and German sentences."
   ]
  },
  {
   "cell_type": "code",
   "execution_count": 3,
   "metadata": {},
   "outputs": [],
   "source": [
    "# split a text into sentences\n",
    "def to_lines(text):\n",
    "    sents = text.strip().split('\\n')\n",
    "    sents = [i.split('\\t') for i in sents]\n",
    "    return sents"
   ]
  },
  {
   "cell_type": "markdown",
   "metadata": {},
   "source": [
    "__Download the data from [here.](http://www.manythings.org/anki/deu-eng.zip)__ and extract \"deu.txt\" in your working directory."
   ]
  },
  {
   "cell_type": "code",
   "execution_count": 4,
   "metadata": {},
   "outputs": [],
   "source": [
    "data = read_text(\"deu.txt\")\n",
    "deu_eng = to_lines(data)\n",
    "deu_eng = array(deu_eng)"
   ]
  },
  {
   "cell_type": "markdown",
   "metadata": {},
   "source": [
    "The actual data contains over 150,000 sentence-pairs. However, we will use the first 50,000 sentence pairs only to reduce the training time of the model. You can change this number as per you system computation power."
   ]
  },
  {
   "cell_type": "code",
   "execution_count": 5,
   "metadata": {},
   "outputs": [],
   "source": [
    "deu_eng = deu_eng[:50000,:]"
   ]
  },
  {
   "cell_type": "markdown",
   "metadata": {},
   "source": [
    "### Text Pre-Processing"
   ]
  },
  {
   "cell_type": "markdown",
   "metadata": {},
   "source": [
    "#### Text Cleaning\n",
    "\n",
    "Let's take a look at our data, then we will decide which pre-processing steps to adopt."
   ]
  },
  {
   "cell_type": "code",
   "execution_count": 6,
   "metadata": {
    "scrolled": true
   },
   "outputs": [
    {
     "data": {
      "text/plain": [
       "array([['Hi.', 'Hallo!'],\n",
       "       ['Hi.', 'Grüß Gott!'],\n",
       "       ['Run!', 'Lauf!'],\n",
       "       ...,\n",
       "       ['Mary has very long hair.', 'Maria hat sehr langes Haar.'],\n",
       "       [\"Mary is Tom's secretary.\", 'Maria ist Toms Sekretärin.'],\n",
       "       ['Mary is a married woman.', 'Maria ist eine verheiratete Frau.']],\n",
       "      dtype='<U380')"
      ]
     },
     "execution_count": 6,
     "metadata": {},
     "output_type": "execute_result"
    }
   ],
   "source": [
    "deu_eng"
   ]
  },
  {
   "cell_type": "markdown",
   "metadata": {},
   "source": [
    "We will get rid of the punctuation marks, and then convert the text to lower case."
   ]
  },
  {
   "cell_type": "code",
   "execution_count": 7,
   "metadata": {},
   "outputs": [],
   "source": [
    "# Remove punctuation\n",
    "deu_eng[:,0] = [s.translate(str.maketrans('', '', string.punctuation)) for s in deu_eng[:,0]]\n",
    "deu_eng[:,1] = [s.translate(str.maketrans('', '', string.punctuation)) for s in deu_eng[:,1]]"
   ]
  },
  {
   "cell_type": "code",
   "execution_count": 8,
   "metadata": {},
   "outputs": [
    {
     "data": {
      "text/plain": [
       "array([['Hi', 'Hallo'],\n",
       "       ['Hi', 'Grüß Gott'],\n",
       "       ['Run', 'Lauf'],\n",
       "       ...,\n",
       "       ['Mary has very long hair', 'Maria hat sehr langes Haar'],\n",
       "       ['Mary is Toms secretary', 'Maria ist Toms Sekretärin'],\n",
       "       ['Mary is a married woman', 'Maria ist eine verheiratete Frau']],\n",
       "      dtype='<U380')"
      ]
     },
     "execution_count": 8,
     "metadata": {},
     "output_type": "execute_result"
    }
   ],
   "source": [
    "deu_eng"
   ]
  },
  {
   "cell_type": "code",
   "execution_count": 9,
   "metadata": {
    "scrolled": true
   },
   "outputs": [],
   "source": [
    "# convert to lowercase\n",
    "for i in range(len(deu_eng)):\n",
    "    deu_eng[i,0] = deu_eng[i,0].lower()\n",
    "    \n",
    "    deu_eng[i,1] = deu_eng[i,1].lower()"
   ]
  },
  {
   "cell_type": "code",
   "execution_count": 10,
   "metadata": {},
   "outputs": [
    {
     "data": {
      "text/plain": [
       "array([['hi', 'hallo'],\n",
       "       ['hi', 'grüß gott'],\n",
       "       ['run', 'lauf'],\n",
       "       ...,\n",
       "       ['mary has very long hair', 'maria hat sehr langes haar'],\n",
       "       ['mary is toms secretary', 'maria ist toms sekretärin'],\n",
       "       ['mary is a married woman', 'maria ist eine verheiratete frau']],\n",
       "      dtype='<U380')"
      ]
     },
     "execution_count": 10,
     "metadata": {},
     "output_type": "execute_result"
    }
   ],
   "source": [
    "deu_eng"
   ]
  },
  {
   "cell_type": "markdown",
   "metadata": {},
   "source": [
    "#### Text to Sequence Conversion\n",
    "\n",
    "To feed our data in a Seq2Seq model, we will have to convert both the input and the output sentences into integer sequences of fixed length. Before that, let's visualise the length of the sentences. We will capture the lengths of all the sentences in two separate lists for English and German, respectively."
   ]
  },
  {
   "cell_type": "code",
   "execution_count": 11,
   "metadata": {},
   "outputs": [],
   "source": [
    "# empty lists\n",
    "eng_l = []\n",
    "deu_l = []\n",
    "\n",
    "# populate the lists with sentence lengths\n",
    "for i in deu_eng[:,0]:\n",
    "    eng_l.append(len(i.split()))\n",
    "\n",
    "for i in deu_eng[:,1]:\n",
    "    deu_l.append(len(i.split()))"
   ]
  },
  {
   "cell_type": "code",
   "execution_count": 12,
   "metadata": {},
   "outputs": [],
   "source": [
    "length_df = pd.DataFrame({'eng':eng_l, 'deu':deu_l})"
   ]
  },
  {
   "cell_type": "code",
   "execution_count": 13,
   "metadata": {},
   "outputs": [
    {
     "data": {
      "image/png": "[encoded data removed]",
      "text/plain": [
       "<Figure size 432x288 with 2 Axes>"
      ]
     },
     "metadata": {
      "needs_background": "light"
     },
     "output_type": "display_data"
    }
   ],
   "source": [
    "length_df.hist(bins = 30)\n",
    "plt.show()"
   ]
  },
  {
   "cell_type": "markdown",
   "metadata": {},
   "source": [
    "The maximum length of the German sentences is 11 and that of the English phrases is 8."
   ]
  },
  {
   "cell_type": "markdown",
   "metadata": {},
   "source": [
    "Let's vectorize our text data by using Keras's Tokenizer() class. It will turn our sentences into sequences of integers. Then we will pad those sequences with zeros to make all the sequences of same length."
   ]
  },
  {
   "cell_type": "code",
   "execution_count": 14,
   "metadata": {},
   "outputs": [],
   "source": [
    "# function to build a tokenizer\n",
    "def tokenization(lines):\n",
    "    tokenizer = Tokenizer()\n",
    "    tokenizer.fit_on_texts(lines)\n",
    "    return tokenizer"
   ]
  },
  {
   "cell_type": "code",
   "execution_count": 15,
   "metadata": {},
   "outputs": [
    {
     "name": "stdout",
     "output_type": "stream",
     "text": [
      "English Vocabulary Size: 6453\n"
     ]
    }
   ],
   "source": [
    "# prepare english tokenizer\n",
    "eng_tokenizer = tokenization(deu_eng[:, 0])\n",
    "eng_vocab_size = len(eng_tokenizer.word_index) + 1\n",
    "\n",
    "eng_length = 8\n",
    "print('English Vocabulary Size: %d' % eng_vocab_size)"
   ]
  },
  {
   "cell_type": "code",
   "execution_count": 16,
   "metadata": {},
   "outputs": [
    {
     "name": "stdout",
     "output_type": "stream",
     "text": [
      "Deutch Vocabulary Size: 10998\n"
     ]
    }
   ],
   "source": [
    "# prepare Deutch tokenizer\n",
    "deu_tokenizer = tokenization(deu_eng[:, 1])\n",
    "deu_vocab_size = len(deu_tokenizer.word_index) + 1\n",
    "\n",
    "deu_length = 8\n",
    "print('Deutch Vocabulary Size: %d' % deu_vocab_size)"
   ]
  },
  {
   "cell_type": "markdown",
   "metadata": {},
   "source": [
    "Given below is a function to prepare the sequences. It will also perform sequence padding to a maximum sentence length as mentioned above. "
   ]
  },
  {
   "cell_type": "code",
   "execution_count": 17,
   "metadata": {},
   "outputs": [],
   "source": [
    "# encode and pad sequences\n",
    "def encode_sequences(tokenizer, length, lines):\n",
    "    # integer encode sequences\n",
    "    seq = tokenizer.texts_to_sequences(lines)\n",
    "    # pad sequences with 0 values\n",
    "    seq = pad_sequences(seq, maxlen=length, padding='post')\n",
    "    return seq"
   ]
  },
  {
   "cell_type": "markdown",
   "metadata": {},
   "source": [
    "### Model Building"
   ]
  },
  {
   "cell_type": "markdown",
   "metadata": {},
   "source": [
    "We will now split the data into train and test set for model training and evaluation, respectively."
   ]
  },
  {
   "cell_type": "code",
   "execution_count": 18,
   "metadata": {},
   "outputs": [],
   "source": [
    "from sklearn.model_selection import train_test_split\n",
    "train, test = train_test_split(deu_eng, test_size=0.2, random_state = 12)"
   ]
  },
  {
   "cell_type": "markdown",
   "metadata": {},
   "source": [
    "It's time to encode the sentences. We will encode German sentences as the input sequences and English sentences as the target sequences. It will be done for both train and test datasets."
   ]
  },
  {
   "cell_type": "code",
   "execution_count": 19,
   "metadata": {},
   "outputs": [],
   "source": [
    "# prepare training data\n",
    "trainX = encode_sequences(deu_tokenizer, deu_length, train[:, 1])\n",
    "trainY = encode_sequences(eng_tokenizer, eng_length, train[:, 0])"
   ]
  },
  {
   "cell_type": "code",
   "execution_count": 20,
   "metadata": {},
   "outputs": [],
   "source": [
    "# prepare validation data\n",
    "testX = encode_sequences(deu_tokenizer, deu_length, test[:, 1])\n",
    "testY = encode_sequences(eng_tokenizer, eng_length, test[:, 0])"
   ]
  },
  {
   "cell_type": "markdown",
   "metadata": {},
   "source": [
    "Now comes the exciting part! Let us define our Seq2Seq model architecture. We are using an Embedding layer and an LSTM layer as our encoder and another LSTM layer followed by a Dense layer as the decoder.  "
   ]
  },
  {
   "cell_type": "code",
   "execution_count": 23,
   "metadata": {},
   "outputs": [],
   "source": [
    "# build NMT model\n",
    "def build_model(in_vocab, out_vocab, in_timesteps, out_timesteps, units):\n",
    "    model = Sequential()\n",
    "    model.add(Embedding(in_vocab, units, input_length=in_timesteps, mask_zero=True))\n",
    "    model.add(LSTM(units))\n",
    "    model.add(RepeatVector(out_timesteps))\n",
    "    model.add(LSTM(units, return_sequences=True))\n",
    "    model.add(Dense(out_vocab, activation='softmax'))\n",
    "    return model"
   ]
  },
  {
   "cell_type": "markdown",
   "metadata": {},
   "source": [
    "We are using RMSprop optimizer in this model as it is usually a good choice for recurrent neural networks."
   ]
  },
  {
   "cell_type": "code",
   "execution_count": 25,
   "metadata": {},
   "outputs": [],
   "source": [
    "model = build_model(deu_vocab_size, eng_vocab_size, deu_length, eng_length, 512)\n",
    "rms = optimizers.RMSprop(lr=0.001)\n",
    "model.compile(optimizer=rms, loss='sparse_categorical_crossentropy')"
   ]
  },
  {
   "cell_type": "markdown",
   "metadata": {},
   "source": [
    "Please note that we have used __'sparse_categorical_crossentropy'__ as the loss function because it allows us to use the target sequence as it is instead of one hot encoded format. One hot encoding the target sequences with such a huge vocabulary might consume our system's entire memory."
   ]
  },
  {
   "cell_type": "markdown",
   "metadata": {},
   "source": [
    "It seems we are all set to start training our model. We will train it for 30 epochs and with a batch size of 512. You may change and play these hyperparameters. We will also be using __ModelCheckpoint()__ to save the best model with lowest validation loss. I personally prefer this method over early stopping."
   ]
  },
  {
   "cell_type": "code",
   "execution_count": 26,
   "metadata": {
    "scrolled": true
   },
   "outputs": [
    {
     "name": "stdout",
     "output_type": "stream",
     "text": [
      "Train on 32000 samples, validate on 8000 samples\n",
      "Epoch 1/30\n",
      "32000/32000 [==============================] - 70s 2ms/step - loss: 3.5693 - val_loss: 3.2825\n",
      "\n",
      "Epoch 00001: val_loss improved from inf to 3.28246, saving model to model.h1.24_jan_19\n",
      "Epoch 2/30\n",
      "32000/32000 [==============================] - 69s 2ms/step - loss: 2.9459 - val_loss: 2.8888\n",
      "\n",
      "Epoch 00002: val_loss improved from 3.28246 to 2.88876, saving model to model.h1.24_jan_19\n",
      "Epoch 3/30\n",
      "32000/32000 [==============================] - 70s 2ms/step - loss: 2.7409 - val_loss: 2.7025\n",
      "\n",
      "Epoch 00003: val_loss improved from 2.88876 to 2.70251, saving model to model.h1.24_jan_19\n",
      "Epoch 4/30\n",
      "32000/32000 [==============================] - 69s 2ms/step - loss: 2.5648 - val_loss: 2.5602\n",
      "\n",
      "Epoch 00004: val_loss improved from 2.70251 to 2.56023, saving model to model.h1.24_jan_19\n",
      "Epoch 5/30\n",
      "32000/32000 [==============================] - 69s 2ms/step - loss: 2.4135 - val_loss: 2.4447\n",
      "\n",
      "Epoch 00005: val_loss improved from 2.56023 to 2.44467, saving model to model.h1.24_jan_19\n",
      "Epoch 6/30\n",
      "32000/32000 [==============================] - 69s 2ms/step - loss: 2.2460 - val_loss: 2.3151\n",
      "\n",
      "Epoch 00006: val_loss improved from 2.44467 to 2.31508, saving model to model.h1.24_jan_19\n",
      "Epoch 7/30\n",
      "32000/32000 [==============================] - 69s 2ms/step - loss: 2.0894 - val_loss: 2.2352\n",
      "\n",
      "Epoch 00007: val_loss improved from 2.31508 to 2.23518, saving model to model.h1.24_jan_19\n",
      "Epoch 8/30\n",
      "32000/32000 [==============================] - 69s 2ms/step - loss: 1.9484 - val_loss: 2.0836\n",
      "\n",
      "Epoch 00008: val_loss improved from 2.23518 to 2.08361, saving model to model.h1.24_jan_19\n",
      "Epoch 9/30\n",
      "32000/32000 [==============================] - 69s 2ms/step - loss: 1.8160 - val_loss: 2.0163\n",
      "\n",
      "Epoch 00009: val_loss improved from 2.08361 to 2.01626, saving model to model.h1.24_jan_19\n",
      "Epoch 10/30\n",
      "32000/32000 [==============================] - 69s 2ms/step - loss: 1.6913 - val_loss: 1.9196\n",
      "\n",
      "Epoch 00010: val_loss improved from 2.01626 to 1.91964, saving model to model.h1.24_jan_19\n",
      "Epoch 11/30\n",
      "32000/32000 [==============================] - 69s 2ms/step - loss: 1.5775 - val_loss: 1.8510\n",
      "\n",
      "Epoch 00011: val_loss improved from 1.91964 to 1.85097, saving model to model.h1.24_jan_19\n",
      "Epoch 12/30\n",
      "32000/32000 [==============================] - 69s 2ms/step - loss: 1.4687 - val_loss: 1.7856\n",
      "\n",
      "Epoch 00012: val_loss improved from 1.85097 to 1.78561, saving model to model.h1.24_jan_19\n",
      "Epoch 13/30\n",
      "32000/32000 [==============================] - 69s 2ms/step - loss: 1.3675 - val_loss: 1.7459\n",
      "\n",
      "Epoch 00013: val_loss improved from 1.78561 to 1.74589, saving model to model.h1.24_jan_19\n",
      "Epoch 14/30\n",
      "32000/32000 [==============================] - 69s 2ms/step - loss: 1.2760 - val_loss: 1.6869\n",
      "\n",
      "Epoch 00014: val_loss improved from 1.74589 to 1.68692, saving model to model.h1.24_jan_19\n",
      "Epoch 15/30\n",
      "32000/32000 [==============================] - 69s 2ms/step - loss: 1.1830 - val_loss: 1.6406\n",
      "\n",
      "Epoch 00015: val_loss improved from 1.68692 to 1.64064, saving model to model.h1.24_jan_19\n",
      "Epoch 16/30\n",
      "32000/32000 [==============================] - 69s 2ms/step - loss: 1.0996 - val_loss: 1.6035\n",
      "\n",
      "Epoch 00016: val_loss improved from 1.64064 to 1.60352, saving model to model.h1.24_jan_19\n",
      "Epoch 17/30\n",
      "32000/32000 [==============================] - 69s 2ms/step - loss: 1.0209 - val_loss: 1.5809\n",
      "\n",
      "Epoch 00017: val_loss improved from 1.60352 to 1.58090, saving model to model.h1.24_jan_19\n",
      "Epoch 18/30\n",
      "32000/32000 [==============================] - 70s 2ms/step - loss: 0.9443 - val_loss: 1.5471\n",
      "\n",
      "Epoch 00018: val_loss improved from 1.58090 to 1.54706, saving model to model.h1.24_jan_19\n",
      "Epoch 19/30\n",
      "32000/32000 [==============================] - 69s 2ms/step - loss: 0.8773 - val_loss: 1.5202\n",
      "\n",
      "Epoch 00019: val_loss improved from 1.54706 to 1.52018, saving model to model.h1.24_jan_19\n",
      "Epoch 20/30\n",
      "32000/32000 [==============================] - 69s 2ms/step - loss: 0.8082 - val_loss: 1.5076\n",
      "\n",
      "Epoch 00020: val_loss improved from 1.52018 to 1.50758, saving model to model.h1.24_jan_19\n",
      "Epoch 21/30\n",
      "32000/32000 [==============================] - 69s 2ms/step - loss: 0.7446 - val_loss: 1.4867\n",
      "\n",
      "Epoch 00021: val_loss improved from 1.50758 to 1.48668, saving model to model.h1.24_jan_19\n",
      "Epoch 22/30\n",
      "32000/32000 [==============================] - 71s 2ms/step - loss: 0.6871 - val_loss: 1.4644\n",
      "\n",
      "Epoch 00022: val_loss improved from 1.48668 to 1.46445, saving model to model.h1.24_jan_19\n",
      "Epoch 23/30\n",
      "32000/32000 [==============================] - 69s 2ms/step - loss: 0.6328 - val_loss: 1.4643\n",
      "\n",
      "Epoch 00023: val_loss improved from 1.46445 to 1.46427, saving model to model.h1.24_jan_19\n",
      "Epoch 24/30\n",
      "32000/32000 [==============================] - 69s 2ms/step - loss: 0.5786 - val_loss: 1.4563\n",
      "\n",
      "Epoch 00024: val_loss improved from 1.46427 to 1.45626, saving model to model.h1.24_jan_19\n",
      "Epoch 25/30\n",
      "32000/32000 [==============================] - 69s 2ms/step - loss: 0.5304 - val_loss: 1.4339\n",
      "\n",
      "Epoch 00025: val_loss improved from 1.45626 to 1.43388, saving model to model.h1.24_jan_19\n",
      "Epoch 26/30\n",
      "32000/32000 [==============================] - 70s 2ms/step - loss: 0.4859 - val_loss: 1.4391\n",
      "\n",
      "Epoch 00026: val_loss did not improve from 1.43388\n",
      "Epoch 27/30\n",
      "32000/32000 [==============================] - 69s 2ms/step - loss: 0.4417 - val_loss: 1.4290\n",
      "\n",
      "Epoch 00027: val_loss improved from 1.43388 to 1.42898, saving model to model.h1.24_jan_19\n",
      "Epoch 28/30\n",
      "32000/32000 [==============================] - 69s 2ms/step - loss: 0.4047 - val_loss: 1.4241\n",
      "\n",
      "Epoch 00028: val_loss improved from 1.42898 to 1.42413, saving model to model.h1.24_jan_19\n",
      "Epoch 29/30\n",
      "32000/32000 [==============================] - 70s 2ms/step - loss: 0.3650 - val_loss: 1.4649\n",
      "\n",
      "Epoch 00029: val_loss did not improve from 1.42413\n",
      "Epoch 30/30\n",
      "32000/32000 [==============================] - 69s 2ms/step - loss: 0.3314 - val_loss: 1.4229\n",
      "\n",
      "Epoch 00030: val_loss improved from 1.42413 to 1.42288, saving model to model.h1.24_jan_19\n"
     ]
    }
   ],
   "source": [
    "filename = 'model.h1.24_jan_19'\n",
    "checkpoint = ModelCheckpoint(filename, monitor='val_loss', verbose=1, save_best_only=True, mode='min')\n",
    "\n",
    "history = model.fit(trainX, trainY.reshape(trainY.shape[0], trainY.shape[1], 1), \n",
    "          epochs=30, batch_size=512, \n",
    "          validation_split = 0.2,\n",
    "          callbacks=[checkpoint], verbose=1)"
   ]
  },
  {
   "cell_type": "markdown",
   "metadata": {},
   "source": [
    "Let's compare the training loss and the validation loss."
   ]
  },
  {
   "cell_type": "code",
   "execution_count": 27,
   "metadata": {},
   "outputs": [
    {
     "data": {
      "image/png": "[encoded data removed]",
      "text/plain": [
       "<Figure size 432x288 with 1 Axes>"
      ]
     },
     "metadata": {
      "needs_background": "light"
     },
     "output_type": "display_data"
    }
   ],
   "source": [
    "plt.plot(history.history['loss'])\n",
    "plt.plot(history.history['val_loss'])\n",
    "plt.legend(['train','validation'])\n",
    "plt.show()"
   ]
  },
  {
   "cell_type": "markdown",
   "metadata": {},
   "source": [
    "### Make Predictions"
   ]
  },
  {
   "cell_type": "markdown",
   "metadata": {},
   "source": [
    "Let's load the saved model to make predictions."
   ]
  },
  {
   "cell_type": "code",
   "execution_count": 21,
   "metadata": {},
   "outputs": [],
   "source": [
    "model = load_model('model.h1.24_jan_19')\n",
    "preds = model.predict_classes(testX.reshape((testX.shape[0],testX.shape[1])))"
   ]
  },
  {
   "cell_type": "code",
   "execution_count": 22,
   "metadata": {},
   "outputs": [],
   "source": [
    "def get_word(n, tokenizer):\n",
    "    for word, index in tokenizer.word_index.items():\n",
    "        if index == n:\n",
    "            return word\n",
    "    return None"
   ]
  },
  {
   "cell_type": "code",
   "execution_count": 23,
   "metadata": {},
   "outputs": [],
   "source": [
    "# convert predictions into text (English)\n",
    "preds_text = []\n",
    "for i in preds:\n",
    "    temp = []\n",
    "    for j in range(len(i)):\n",
    "        t = get_word(i[j], eng_tokenizer)\n",
    "        if j > 0:\n",
    "            if (t == get_word(i[j-1], eng_tokenizer)) or (t == None):\n",
    "                temp.append('')\n",
    "            else:\n",
    "                temp.append(t)\n",
    "             \n",
    "        else:\n",
    "            if(t == None):\n",
    "                temp.append('')\n",
    "            else:\n",
    "                temp.append(t)            \n",
    "        \n",
    "    preds_text.append(' '.join(temp))"
   ]
  },
  {
   "cell_type": "code",
   "execution_count": 24,
   "metadata": {},
   "outputs": [],
   "source": [
    "pred_df = pd.DataFrame({'actual' : test[:,0], 'predicted' : preds_text})"
   ]
  },
  {
   "cell_type": "code",
   "execution_count": 25,
   "metadata": {},
   "outputs": [],
   "source": [
    "pd.set_option('display.max_colwidth', 200)"
   ]
  },
  {
   "cell_type": "code",
   "execution_count": 34,
   "metadata": {},
   "outputs": [
    {
     "data": {
      "text/html": [
       "<div>\n",
       "<style scoped>\n",
       "    .dataframe tbody tr th:only-of-type {\n",
       "        vertical-align: middle;\n",
       "    }\n",
       "\n",
       "    .dataframe tbody tr th {\n",
       "        vertical-align: top;\n",
       "    }\n",
       "\n",
       "    .dataframe thead th {\n",
       "        text-align: right;\n",
       "    }\n",
       "</style>\n",
       "<table border=\"1\" class=\"dataframe\">\n",
       "  <thead>\n",
       "    <tr style=\"text-align: right;\">\n",
       "      <th></th>\n",
       "      <th>actual</th>\n",
       "      <th>predicted</th>\n",
       "    </tr>\n",
       "  </thead>\n",
       "  <tbody>\n",
       "    <tr>\n",
       "      <th>0</th>\n",
       "      <td>weve run out of gas</td>\n",
       "      <td>we have out  of gas</td>\n",
       "    </tr>\n",
       "    <tr>\n",
       "      <th>1</th>\n",
       "      <td>its a fad</td>\n",
       "      <td>this is a</td>\n",
       "    </tr>\n",
       "    <tr>\n",
       "      <th>2</th>\n",
       "      <td>tom was shaken</td>\n",
       "      <td>tom was distressed</td>\n",
       "    </tr>\n",
       "    <tr>\n",
       "      <th>3</th>\n",
       "      <td>this annoys me</td>\n",
       "      <td>this me</td>\n",
       "    </tr>\n",
       "    <tr>\n",
       "      <th>4</th>\n",
       "      <td>let me do that for you</td>\n",
       "      <td>let me do   you</td>\n",
       "    </tr>\n",
       "    <tr>\n",
       "      <th>5</th>\n",
       "      <td>you will pay for this</td>\n",
       "      <td>youll pay for this</td>\n",
       "    </tr>\n",
       "    <tr>\n",
       "      <th>6</th>\n",
       "      <td>tom often cuts classes</td>\n",
       "      <td>tom often to</td>\n",
       "    </tr>\n",
       "    <tr>\n",
       "      <th>7</th>\n",
       "      <td>hes young and healthy</td>\n",
       "      <td>he is young angry</td>\n",
       "    </tr>\n",
       "    <tr>\n",
       "      <th>8</th>\n",
       "      <td>life is enjoyable</td>\n",
       "      <td>life is beautiful</td>\n",
       "    </tr>\n",
       "    <tr>\n",
       "      <th>9</th>\n",
       "      <td>i know it sounds silly</td>\n",
       "      <td>i know it</td>\n",
       "    </tr>\n",
       "    <tr>\n",
       "      <th>10</th>\n",
       "      <td>i raise cattle</td>\n",
       "      <td>im going to</td>\n",
       "    </tr>\n",
       "    <tr>\n",
       "      <th>11</th>\n",
       "      <td>dont worry</td>\n",
       "      <td>dont be worried</td>\n",
       "    </tr>\n",
       "    <tr>\n",
       "      <th>12</th>\n",
       "      <td>close the door</td>\n",
       "      <td>shut the door</td>\n",
       "    </tr>\n",
       "    <tr>\n",
       "      <th>13</th>\n",
       "      <td>youre joking</td>\n",
       "      <td>youre kidding</td>\n",
       "    </tr>\n",
       "    <tr>\n",
       "      <th>14</th>\n",
       "      <td>tom seemed lucky</td>\n",
       "      <td>tom seemed happy</td>\n",
       "    </tr>\n",
       "  </tbody>\n",
       "</table>\n",
       "</div>"
      ],
      "text/plain": [
       "                    actual                predicted\n",
       "0      weve run out of gas    we have out  of gas  \n",
       "1                its a fad           this is a     \n",
       "2           tom was shaken  tom was distressed     \n",
       "3           this annoys me            this me      \n",
       "4   let me do that for you        let me do   you  \n",
       "5    you will pay for this   youll pay for this    \n",
       "6   tom often cuts classes        tom often to     \n",
       "7    hes young and healthy    he is young angry    \n",
       "8        life is enjoyable   life is beautiful     \n",
       "9   i know it sounds silly           i know it     \n",
       "10          i raise cattle         im going to     \n",
       "11              dont worry     dont be worried     \n",
       "12          close the door       shut the door     \n",
       "13            youre joking      youre kidding      \n",
       "14        tom seemed lucky    tom seemed happy     "
      ]
     },
     "execution_count": 34,
     "metadata": {},
     "output_type": "execute_result"
    }
   ],
   "source": [
    "pred_df.head(15)"
   ]
  },
  {
   "cell_type": "code",
   "execution_count": 35,
   "metadata": {},
   "outputs": [
    {
     "data": {
      "text/html": [
       "<div>\n",
       "<style scoped>\n",
       "    .dataframe tbody tr th:only-of-type {\n",
       "        vertical-align: middle;\n",
       "    }\n",
       "\n",
       "    .dataframe tbody tr th {\n",
       "        vertical-align: top;\n",
       "    }\n",
       "\n",
       "    .dataframe thead th {\n",
       "        text-align: right;\n",
       "    }\n",
       "</style>\n",
       "<table border=\"1\" class=\"dataframe\">\n",
       "  <thead>\n",
       "    <tr style=\"text-align: right;\">\n",
       "      <th></th>\n",
       "      <th>actual</th>\n",
       "      <th>predicted</th>\n",
       "    </tr>\n",
       "  </thead>\n",
       "  <tbody>\n",
       "    <tr>\n",
       "      <th>9985</th>\n",
       "      <td>tom knew the risks</td>\n",
       "      <td>tom was all of</td>\n",
       "    </tr>\n",
       "    <tr>\n",
       "      <th>9986</th>\n",
       "      <td>what does she do</td>\n",
       "      <td>what does you do</td>\n",
       "    </tr>\n",
       "    <tr>\n",
       "      <th>9987</th>\n",
       "      <td>she still loved him</td>\n",
       "      <td>she still him sing</td>\n",
       "    </tr>\n",
       "    <tr>\n",
       "      <th>9988</th>\n",
       "      <td>i want to be careful</td>\n",
       "      <td>i want to be boston</td>\n",
       "    </tr>\n",
       "    <tr>\n",
       "      <th>9989</th>\n",
       "      <td>im here arent i</td>\n",
       "      <td>im here</td>\n",
       "    </tr>\n",
       "    <tr>\n",
       "      <th>9990</th>\n",
       "      <td>youre a hypocrite</td>\n",
       "      <td>youre a hypocrite</td>\n",
       "    </tr>\n",
       "    <tr>\n",
       "      <th>9991</th>\n",
       "      <td>i gave you a book</td>\n",
       "      <td>i gave you a book</td>\n",
       "    </tr>\n",
       "    <tr>\n",
       "      <th>9992</th>\n",
       "      <td>lets do it</td>\n",
       "      <td>do  it</td>\n",
       "    </tr>\n",
       "    <tr>\n",
       "      <th>9993</th>\n",
       "      <td>i broke my leg skiing</td>\n",
       "      <td>i broke my</td>\n",
       "    </tr>\n",
       "    <tr>\n",
       "      <th>9994</th>\n",
       "      <td>i was victorious</td>\n",
       "      <td>i was been asleep</td>\n",
       "    </tr>\n",
       "    <tr>\n",
       "      <th>9995</th>\n",
       "      <td>what a pretty woman</td>\n",
       "      <td>what a wife</td>\n",
       "    </tr>\n",
       "    <tr>\n",
       "      <th>9996</th>\n",
       "      <td>well come with you</td>\n",
       "      <td>were come with you</td>\n",
       "    </tr>\n",
       "    <tr>\n",
       "      <th>9997</th>\n",
       "      <td>i am the same age</td>\n",
       "      <td>im am the same age</td>\n",
       "    </tr>\n",
       "    <tr>\n",
       "      <th>9998</th>\n",
       "      <td>who should we believe</td>\n",
       "      <td>who do we going</td>\n",
       "    </tr>\n",
       "    <tr>\n",
       "      <th>9999</th>\n",
       "      <td>whats it good for</td>\n",
       "      <td>whats she good for</td>\n",
       "    </tr>\n",
       "  </tbody>\n",
       "</table>\n",
       "</div>"
      ],
      "text/plain": [
       "                     actual               predicted\n",
       "9985     tom knew the risks      tom was all of    \n",
       "9986       what does she do    what does you do    \n",
       "9987    she still loved him  she still him sing    \n",
       "9988   i want to be careful  i want to be boston   \n",
       "9989        im here arent i           im here      \n",
       "9990      youre a hypocrite  youre a hypocrite     \n",
       "9991      i gave you a book    i gave you a book   \n",
       "9992             lets do it             do  it     \n",
       "9993  i broke my leg skiing         i broke my     \n",
       "9994       i was victorious   i was been asleep    \n",
       "9995    what a pretty woman        what a wife     \n",
       "9996     well come with you  were come with you    \n",
       "9997      i am the same age   im am the same age   \n",
       "9998  who should we believe     who do we going    \n",
       "9999      whats it good for  whats she good for    "
      ]
     },
     "execution_count": 35,
     "metadata": {},
     "output_type": "execute_result"
    }
   ],
   "source": [
    "pred_df.tail(15)"
   ]
  },
  {
   "cell_type": "code",
   "execution_count": 37,
   "metadata": {},
   "outputs": [
    {
     "data": {
      "text/html": [
       "<div>\n",
       "<style scoped>\n",
       "    .dataframe tbody tr th:only-of-type {\n",
       "        vertical-align: middle;\n",
       "    }\n",
       "\n",
       "    .dataframe tbody tr th {\n",
       "        vertical-align: top;\n",
       "    }\n",
       "\n",
       "    .dataframe thead th {\n",
       "        text-align: right;\n",
       "    }\n",
       "</style>\n",
       "<table border=\"1\" class=\"dataframe\">\n",
       "  <thead>\n",
       "    <tr style=\"text-align: right;\">\n",
       "      <th></th>\n",
       "      <th>actual</th>\n",
       "      <th>predicted</th>\n",
       "    </tr>\n",
       "  </thead>\n",
       "  <tbody>\n",
       "    <tr>\n",
       "      <th>9985</th>\n",
       "      <td>tom knew the risks</td>\n",
       "      <td>tom was all of</td>\n",
       "    </tr>\n",
       "    <tr>\n",
       "      <th>9986</th>\n",
       "      <td>what does she do</td>\n",
       "      <td>what does you do</td>\n",
       "    </tr>\n",
       "    <tr>\n",
       "      <th>9987</th>\n",
       "      <td>she still loved him</td>\n",
       "      <td>she still him sing</td>\n",
       "    </tr>\n",
       "    <tr>\n",
       "      <th>9988</th>\n",
       "      <td>i want to be careful</td>\n",
       "      <td>i want to be boston</td>\n",
       "    </tr>\n",
       "    <tr>\n",
       "      <th>9989</th>\n",
       "      <td>im here arent i</td>\n",
       "      <td>im here</td>\n",
       "    </tr>\n",
       "    <tr>\n",
       "      <th>9990</th>\n",
       "      <td>youre a hypocrite</td>\n",
       "      <td>youre a hypocrite</td>\n",
       "    </tr>\n",
       "    <tr>\n",
       "      <th>9991</th>\n",
       "      <td>i gave you a book</td>\n",
       "      <td>i gave you a book</td>\n",
       "    </tr>\n",
       "    <tr>\n",
       "      <th>9992</th>\n",
       "      <td>lets do it</td>\n",
       "      <td>do  it</td>\n",
       "    </tr>\n",
       "    <tr>\n",
       "      <th>9993</th>\n",
       "      <td>i broke my leg skiing</td>\n",
       "      <td>i broke my</td>\n",
       "    </tr>\n",
       "    <tr>\n",
       "      <th>9994</th>\n",
       "      <td>i was victorious</td>\n",
       "      <td>i was been asleep</td>\n",
       "    </tr>\n",
       "    <tr>\n",
       "      <th>9995</th>\n",
       "      <td>what a pretty woman</td>\n",
       "      <td>what a wife</td>\n",
       "    </tr>\n",
       "    <tr>\n",
       "      <th>9996</th>\n",
       "      <td>well come with you</td>\n",
       "      <td>were come with you</td>\n",
       "    </tr>\n",
       "    <tr>\n",
       "      <th>9997</th>\n",
       "      <td>i am the same age</td>\n",
       "      <td>im am the same age</td>\n",
       "    </tr>\n",
       "    <tr>\n",
       "      <th>9998</th>\n",
       "      <td>who should we believe</td>\n",
       "      <td>who do we going</td>\n",
       "    </tr>\n",
       "    <tr>\n",
       "      <th>9999</th>\n",
       "      <td>whats it good for</td>\n",
       "      <td>whats she good for</td>\n",
       "    </tr>\n",
       "  </tbody>\n",
       "</table>\n",
       "</div>"
      ],
      "text/plain": [
       "                     actual               predicted\n",
       "9985     tom knew the risks      tom was all of    \n",
       "9986       what does she do    what does you do    \n",
       "9987    she still loved him  she still him sing    \n",
       "9988   i want to be careful  i want to be boston   \n",
       "9989        im here arent i           im here      \n",
       "9990      youre a hypocrite  youre a hypocrite     \n",
       "9991      i gave you a book    i gave you a book   \n",
       "9992             lets do it             do  it     \n",
       "9993  i broke my leg skiing         i broke my     \n",
       "9994       i was victorious   i was been asleep    \n",
       "9995    what a pretty woman        what a wife     \n",
       "9996     well come with you  were come with you    \n",
       "9997      i am the same age   im am the same age   \n",
       "9998  who should we believe     who do we going    \n",
       "9999      whats it good for  whats she good for    "
      ]
     },
     "execution_count": 37,
     "metadata": {},
     "output_type": "execute_result"
    }
   ],
   "source": [
    "pred_df.tail(15)"
   ]
  },
  {
   "cell_type": "code",
   "execution_count": 40,
   "metadata": {},
   "outputs": [
    {
     "data": {
      "text/html": [
       "<div>\n",
       "<style scoped>\n",
       "    .dataframe tbody tr th:only-of-type {\n",
       "        vertical-align: middle;\n",
       "    }\n",
       "\n",
       "    .dataframe tbody tr th {\n",
       "        vertical-align: top;\n",
       "    }\n",
       "\n",
       "    .dataframe thead th {\n",
       "        text-align: right;\n",
       "    }\n",
       "</style>\n",
       "<table border=\"1\" class=\"dataframe\">\n",
       "  <thead>\n",
       "    <tr style=\"text-align: right;\">\n",
       "      <th></th>\n",
       "      <th>actual</th>\n",
       "      <th>predicted</th>\n",
       "    </tr>\n",
       "  </thead>\n",
       "  <tbody>\n",
       "    <tr>\n",
       "      <th>4719</th>\n",
       "      <td>id like to know why</td>\n",
       "      <td>id like to know why</td>\n",
       "    </tr>\n",
       "    <tr>\n",
       "      <th>6533</th>\n",
       "      <td>i dont need a car</td>\n",
       "      <td>i dont need a car</td>\n",
       "    </tr>\n",
       "    <tr>\n",
       "      <th>8505</th>\n",
       "      <td>youve got a fever</td>\n",
       "      <td>you have a fever</td>\n",
       "    </tr>\n",
       "    <tr>\n",
       "      <th>6081</th>\n",
       "      <td>dont come again</td>\n",
       "      <td>dont come again</td>\n",
       "    </tr>\n",
       "    <tr>\n",
       "      <th>5615</th>\n",
       "      <td>im tired of boston</td>\n",
       "      <td>im am boston</td>\n",
       "    </tr>\n",
       "    <tr>\n",
       "      <th>868</th>\n",
       "      <td>i mean no disrespect</td>\n",
       "      <td>i dont want to be</td>\n",
       "    </tr>\n",
       "    <tr>\n",
       "      <th>1415</th>\n",
       "      <td>take a number</td>\n",
       "      <td>take a number</td>\n",
       "    </tr>\n",
       "    <tr>\n",
       "      <th>3561</th>\n",
       "      <td>what does it say</td>\n",
       "      <td>what does it</td>\n",
       "    </tr>\n",
       "    <tr>\n",
       "      <th>1292</th>\n",
       "      <td>shes still young</td>\n",
       "      <td>she is young</td>\n",
       "    </tr>\n",
       "    <tr>\n",
       "      <th>7759</th>\n",
       "      <td>youre out of order</td>\n",
       "      <td>youre not normal</td>\n",
       "    </tr>\n",
       "    <tr>\n",
       "      <th>1285</th>\n",
       "      <td>get lost</td>\n",
       "      <td>get away</td>\n",
       "    </tr>\n",
       "    <tr>\n",
       "      <th>6900</th>\n",
       "      <td>tom wouldnt blame you</td>\n",
       "      <td>tom wouldnt blame you</td>\n",
       "    </tr>\n",
       "    <tr>\n",
       "      <th>4161</th>\n",
       "      <td>youre in love</td>\n",
       "      <td>are  love</td>\n",
       "    </tr>\n",
       "    <tr>\n",
       "      <th>1427</th>\n",
       "      <td>he noticed i was there</td>\n",
       "      <td>he saw ill right</td>\n",
       "    </tr>\n",
       "    <tr>\n",
       "      <th>2987</th>\n",
       "      <td>tom rarely smiled</td>\n",
       "      <td>tom seldom smiled</td>\n",
       "    </tr>\n",
       "  </tbody>\n",
       "</table>\n",
       "</div>"
      ],
      "text/plain": [
       "                      actual                  predicted\n",
       "4719     id like to know why     id like to know why   \n",
       "6533       i dont need a car       i dont need a car   \n",
       "8505       youve got a fever       you have a fever    \n",
       "6081         dont come again       dont come again     \n",
       "5615      im tired of boston          im am boston     \n",
       "868     i mean no disrespect       i dont want to be   \n",
       "1415           take a number         take a number     \n",
       "3561        what does it say          what does it     \n",
       "1292        shes still young          she is young     \n",
       "7759      youre out of order      youre not normal     \n",
       "1285                get lost             get away      \n",
       "6900   tom wouldnt blame you  tom wouldnt blame you    \n",
       "4161           youre in love             are  love     \n",
       "1427  he noticed i was there       he saw ill right    \n",
       "2987       tom rarely smiled     tom seldom smiled     "
      ]
     },
     "execution_count": 40,
     "metadata": {},
     "output_type": "execute_result"
    }
   ],
   "source": [
    "pred_df.sample(15)"
   ]
  }
 ],
 "metadata": {
  "kernelspec": {
   "display_name": "Python 3",
   "language": "python",
   "name": "python3"
  },
  "language_info": {
   "codemirror_mode": {
    "name": "ipython",
    "version": 3
   },
   "file_extension": ".py",
   "mimetype": "text/x-python",
   "name": "python",
   "nbconvert_exporter": "python",
   "pygments_lexer": "ipython3",
   "version": "3.6.6"
  }
 },
 "nbformat": 4,
 "nbformat_minor": 2
}
